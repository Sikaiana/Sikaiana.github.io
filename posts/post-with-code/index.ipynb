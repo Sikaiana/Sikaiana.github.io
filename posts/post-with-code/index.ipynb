{
  "cells": [
    {
      "cell_type": "raw",
      "metadata": {},
      "source": [
        "---\n",
        "title: Post With Code\n",
        "author: Harlow Malloc\n",
        "date: '2024-12-17'\n",
        "categories:\n",
        "  - news\n",
        "  - code\n",
        "  - analysis\n",
        "image: image.jpg\n",
        "---"
      ],
      "id": "4942db04"
    },
    {
      "cell_type": "markdown",
      "metadata": {},
      "source": [
        "This is a post with executable code.\n"
      ],
      "id": "e2771eb8"
    },
    {
      "cell_type": "code",
      "metadata": {},
      "source": [
        "1 + 1"
      ],
      "id": "7649d43d",
      "execution_count": null,
      "outputs": []
    }
  ],
  "metadata": {
    "kernelspec": {
      "display_name": "Python 3",
      "language": "python",
      "name": "python3"
    }
  },
  "nbformat": 4,
  "nbformat_minor": 5
}